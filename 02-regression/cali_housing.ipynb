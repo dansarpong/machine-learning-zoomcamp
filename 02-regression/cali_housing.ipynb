{
 "cells": [
  {
   "cell_type": "code",
   "execution_count": 1,
   "id": "e12bb7a1-1d7c-44f7-913b-232a2835a241",
   "metadata": {},
   "outputs": [],
   "source": [
    "import numpy as np\n",
    "import pandas as pd"
   ]
  },
  {
   "cell_type": "code",
   "execution_count": 2,
   "id": "edeb627c-5765-465b-97e0-d44364286439",
   "metadata": {},
   "outputs": [],
   "source": [
    "from sklearn.datasets import fetch_california_housing\n",
    "housing = fetch_california_housing(as_frame=True)\n",
    "a = housing.data\n",
    "b = housing.target"
   ]
  },
  {
   "cell_type": "code",
   "execution_count": 3,
   "id": "3e3d8caf-a807-4412-86f8-74ab51c80eab",
   "metadata": {},
   "outputs": [
    {
     "data": {
      "text/plain": [
       "(       MedInc  HouseAge  AveRooms  AveBedrms  Population  AveOccup  Latitude  \\\n",
       " 0      8.3252      41.0  6.984127   1.023810       322.0  2.555556     37.88   \n",
       " 1      8.3014      21.0  6.238137   0.971880      2401.0  2.109842     37.86   \n",
       " 2      7.2574      52.0  8.288136   1.073446       496.0  2.802260     37.85   \n",
       " 3      5.6431      52.0  5.817352   1.073059       558.0  2.547945     37.85   \n",
       " 4      3.8462      52.0  6.281853   1.081081       565.0  2.181467     37.85   \n",
       " ...       ...       ...       ...        ...         ...       ...       ...   \n",
       " 20635  1.5603      25.0  5.045455   1.133333       845.0  2.560606     39.48   \n",
       " 20636  2.5568      18.0  6.114035   1.315789       356.0  3.122807     39.49   \n",
       " 20637  1.7000      17.0  5.205543   1.120092      1007.0  2.325635     39.43   \n",
       " 20638  1.8672      18.0  5.329513   1.171920       741.0  2.123209     39.43   \n",
       " 20639  2.3886      16.0  5.254717   1.162264      1387.0  2.616981     39.37   \n",
       " \n",
       "        Longitude  \n",
       " 0        -122.23  \n",
       " 1        -122.22  \n",
       " 2        -122.24  \n",
       " 3        -122.25  \n",
       " 4        -122.25  \n",
       " ...          ...  \n",
       " 20635    -121.09  \n",
       " 20636    -121.21  \n",
       " 20637    -121.22  \n",
       " 20638    -121.32  \n",
       " 20639    -121.24  \n",
       " \n",
       " [20640 rows x 8 columns],\n",
       " 0        4.526\n",
       " 1        3.585\n",
       " 2        3.521\n",
       " 3        3.413\n",
       " 4        3.422\n",
       "          ...  \n",
       " 20635    0.781\n",
       " 20636    0.771\n",
       " 20637    0.923\n",
       " 20638    0.847\n",
       " 20639    0.894\n",
       " Name: MedHouseVal, Length: 20640, dtype: float64)"
      ]
     },
     "execution_count": 3,
     "metadata": {},
     "output_type": "execute_result"
    }
   ],
   "source": [
    "a, b"
   ]
  },
  {
   "cell_type": "code",
   "execution_count": 4,
   "id": "1259c7fb-b703-411c-ab0c-f2947618f4cf",
   "metadata": {},
   "outputs": [],
   "source": [
    "a[b.name] = b.values"
   ]
  },
  {
   "cell_type": "code",
   "execution_count": 5,
   "id": "17164572-7293-4c33-afdc-ed81942bdb58",
   "metadata": {},
   "outputs": [
    {
     "data": {
      "text/html": [
       "<div>\n",
       "<style scoped>\n",
       "    .dataframe tbody tr th:only-of-type {\n",
       "        vertical-align: middle;\n",
       "    }\n",
       "\n",
       "    .dataframe tbody tr th {\n",
       "        vertical-align: top;\n",
       "    }\n",
       "\n",
       "    .dataframe thead th {\n",
       "        text-align: right;\n",
       "    }\n",
       "</style>\n",
       "<table border=\"1\" class=\"dataframe\">\n",
       "  <thead>\n",
       "    <tr style=\"text-align: right;\">\n",
       "      <th></th>\n",
       "      <th>MedInc</th>\n",
       "      <th>HouseAge</th>\n",
       "      <th>AveRooms</th>\n",
       "      <th>AveBedrms</th>\n",
       "      <th>Population</th>\n",
       "      <th>AveOccup</th>\n",
       "      <th>Latitude</th>\n",
       "      <th>Longitude</th>\n",
       "      <th>MedHouseVal</th>\n",
       "    </tr>\n",
       "  </thead>\n",
       "  <tbody>\n",
       "    <tr>\n",
       "      <th>0</th>\n",
       "      <td>8.3252</td>\n",
       "      <td>41.0</td>\n",
       "      <td>6.984127</td>\n",
       "      <td>1.023810</td>\n",
       "      <td>322.0</td>\n",
       "      <td>2.555556</td>\n",
       "      <td>37.88</td>\n",
       "      <td>-122.23</td>\n",
       "      <td>4.526</td>\n",
       "    </tr>\n",
       "    <tr>\n",
       "      <th>1</th>\n",
       "      <td>8.3014</td>\n",
       "      <td>21.0</td>\n",
       "      <td>6.238137</td>\n",
       "      <td>0.971880</td>\n",
       "      <td>2401.0</td>\n",
       "      <td>2.109842</td>\n",
       "      <td>37.86</td>\n",
       "      <td>-122.22</td>\n",
       "      <td>3.585</td>\n",
       "    </tr>\n",
       "    <tr>\n",
       "      <th>2</th>\n",
       "      <td>7.2574</td>\n",
       "      <td>52.0</td>\n",
       "      <td>8.288136</td>\n",
       "      <td>1.073446</td>\n",
       "      <td>496.0</td>\n",
       "      <td>2.802260</td>\n",
       "      <td>37.85</td>\n",
       "      <td>-122.24</td>\n",
       "      <td>3.521</td>\n",
       "    </tr>\n",
       "    <tr>\n",
       "      <th>3</th>\n",
       "      <td>5.6431</td>\n",
       "      <td>52.0</td>\n",
       "      <td>5.817352</td>\n",
       "      <td>1.073059</td>\n",
       "      <td>558.0</td>\n",
       "      <td>2.547945</td>\n",
       "      <td>37.85</td>\n",
       "      <td>-122.25</td>\n",
       "      <td>3.413</td>\n",
       "    </tr>\n",
       "    <tr>\n",
       "      <th>4</th>\n",
       "      <td>3.8462</td>\n",
       "      <td>52.0</td>\n",
       "      <td>6.281853</td>\n",
       "      <td>1.081081</td>\n",
       "      <td>565.0</td>\n",
       "      <td>2.181467</td>\n",
       "      <td>37.85</td>\n",
       "      <td>-122.25</td>\n",
       "      <td>3.422</td>\n",
       "    </tr>\n",
       "    <tr>\n",
       "      <th>...</th>\n",
       "      <td>...</td>\n",
       "      <td>...</td>\n",
       "      <td>...</td>\n",
       "      <td>...</td>\n",
       "      <td>...</td>\n",
       "      <td>...</td>\n",
       "      <td>...</td>\n",
       "      <td>...</td>\n",
       "      <td>...</td>\n",
       "    </tr>\n",
       "    <tr>\n",
       "      <th>20635</th>\n",
       "      <td>1.5603</td>\n",
       "      <td>25.0</td>\n",
       "      <td>5.045455</td>\n",
       "      <td>1.133333</td>\n",
       "      <td>845.0</td>\n",
       "      <td>2.560606</td>\n",
       "      <td>39.48</td>\n",
       "      <td>-121.09</td>\n",
       "      <td>0.781</td>\n",
       "    </tr>\n",
       "    <tr>\n",
       "      <th>20636</th>\n",
       "      <td>2.5568</td>\n",
       "      <td>18.0</td>\n",
       "      <td>6.114035</td>\n",
       "      <td>1.315789</td>\n",
       "      <td>356.0</td>\n",
       "      <td>3.122807</td>\n",
       "      <td>39.49</td>\n",
       "      <td>-121.21</td>\n",
       "      <td>0.771</td>\n",
       "    </tr>\n",
       "    <tr>\n",
       "      <th>20637</th>\n",
       "      <td>1.7000</td>\n",
       "      <td>17.0</td>\n",
       "      <td>5.205543</td>\n",
       "      <td>1.120092</td>\n",
       "      <td>1007.0</td>\n",
       "      <td>2.325635</td>\n",
       "      <td>39.43</td>\n",
       "      <td>-121.22</td>\n",
       "      <td>0.923</td>\n",
       "    </tr>\n",
       "    <tr>\n",
       "      <th>20638</th>\n",
       "      <td>1.8672</td>\n",
       "      <td>18.0</td>\n",
       "      <td>5.329513</td>\n",
       "      <td>1.171920</td>\n",
       "      <td>741.0</td>\n",
       "      <td>2.123209</td>\n",
       "      <td>39.43</td>\n",
       "      <td>-121.32</td>\n",
       "      <td>0.847</td>\n",
       "    </tr>\n",
       "    <tr>\n",
       "      <th>20639</th>\n",
       "      <td>2.3886</td>\n",
       "      <td>16.0</td>\n",
       "      <td>5.254717</td>\n",
       "      <td>1.162264</td>\n",
       "      <td>1387.0</td>\n",
       "      <td>2.616981</td>\n",
       "      <td>39.37</td>\n",
       "      <td>-121.24</td>\n",
       "      <td>0.894</td>\n",
       "    </tr>\n",
       "  </tbody>\n",
       "</table>\n",
       "<p>20640 rows × 9 columns</p>\n",
       "</div>"
      ],
      "text/plain": [
       "       MedInc  HouseAge  AveRooms  AveBedrms  Population  AveOccup  Latitude  \\\n",
       "0      8.3252      41.0  6.984127   1.023810       322.0  2.555556     37.88   \n",
       "1      8.3014      21.0  6.238137   0.971880      2401.0  2.109842     37.86   \n",
       "2      7.2574      52.0  8.288136   1.073446       496.0  2.802260     37.85   \n",
       "3      5.6431      52.0  5.817352   1.073059       558.0  2.547945     37.85   \n",
       "4      3.8462      52.0  6.281853   1.081081       565.0  2.181467     37.85   \n",
       "...       ...       ...       ...        ...         ...       ...       ...   \n",
       "20635  1.5603      25.0  5.045455   1.133333       845.0  2.560606     39.48   \n",
       "20636  2.5568      18.0  6.114035   1.315789       356.0  3.122807     39.49   \n",
       "20637  1.7000      17.0  5.205543   1.120092      1007.0  2.325635     39.43   \n",
       "20638  1.8672      18.0  5.329513   1.171920       741.0  2.123209     39.43   \n",
       "20639  2.3886      16.0  5.254717   1.162264      1387.0  2.616981     39.37   \n",
       "\n",
       "       Longitude  MedHouseVal  \n",
       "0        -122.23        4.526  \n",
       "1        -122.22        3.585  \n",
       "2        -122.24        3.521  \n",
       "3        -122.25        3.413  \n",
       "4        -122.25        3.422  \n",
       "...          ...          ...  \n",
       "20635    -121.09        0.781  \n",
       "20636    -121.21        0.771  \n",
       "20637    -121.22        0.923  \n",
       "20638    -121.32        0.847  \n",
       "20639    -121.24        0.894  \n",
       "\n",
       "[20640 rows x 9 columns]"
      ]
     },
     "execution_count": 5,
     "metadata": {},
     "output_type": "execute_result"
    }
   ],
   "source": [
    "df = a.copy()\n",
    "df"
   ]
  },
  {
   "cell_type": "code",
   "execution_count": 6,
   "id": "1f82006b-9aef-4b67-9aa2-3bc6f0e93d54",
   "metadata": {},
   "outputs": [
    {
     "data": {
      "text/plain": [
       "MedInc         float64\n",
       "HouseAge       float64\n",
       "AveRooms       float64\n",
       "AveBedrms      float64\n",
       "Population     float64\n",
       "AveOccup       float64\n",
       "Latitude       float64\n",
       "Longitude      float64\n",
       "MedHouseVal    float64\n",
       "dtype: object"
      ]
     },
     "execution_count": 6,
     "metadata": {},
     "output_type": "execute_result"
    }
   ],
   "source": [
    "df.dtypes"
   ]
  },
  {
   "cell_type": "raw",
   "id": "4ea9bb42-64be-4153-9894-c5e34af9637d",
   "metadata": {},
   "source": []
  },
  {
   "cell_type": "code",
   "execution_count": 7,
   "id": "afe0eda9-dee0-40b3-b7ad-49c97c083fe0",
   "metadata": {},
   "outputs": [
    {
     "name": "stdout",
     "output_type": "stream",
     "text": [
      "MedInc float64\n",
      "[8.3252 8.3014 7.2574 5.6431 3.8462]\n",
      "12928\n",
      "\n",
      "HouseAge float64\n",
      "[41. 21. 52. 42. 50.]\n",
      "52\n",
      "\n",
      "AveRooms float64\n",
      "[6.98412698 6.23813708 8.28813559 5.8173516  6.28185328]\n",
      "19392\n",
      "\n",
      "AveBedrms float64\n",
      "[1.02380952 0.97188049 1.07344633 1.07305936 1.08108108]\n",
      "14233\n",
      "\n",
      "Population float64\n",
      "[ 322. 2401.  496.  558.  565.]\n",
      "3888\n",
      "\n",
      "AveOccup float64\n",
      "[2.55555556 2.10984183 2.80225989 2.54794521 2.18146718]\n",
      "18841\n",
      "\n",
      "Latitude float64\n",
      "[37.88 37.86 37.85 37.84 37.83]\n",
      "862\n",
      "\n",
      "Longitude float64\n",
      "[-122.23 -122.22 -122.24 -122.25 -122.26]\n",
      "844\n",
      "\n",
      "MedHouseVal float64\n",
      "[4.526 3.585 3.521 3.413 3.422]\n",
      "3842\n",
      "\n"
     ]
    }
   ],
   "source": [
    "for col in df.columns:\n",
    "    print(col, df[col].dtype)\n",
    "    print(df[col].unique()[:5])\n",
    "    print(df[col].nunique())\n",
    "    print()"
   ]
  },
  {
   "cell_type": "code",
   "execution_count": 8,
   "id": "526c62b3-136d-470e-be40-409bd662ca37",
   "metadata": {},
   "outputs": [
    {
     "data": {
      "text/plain": [
       "MedInc         0\n",
       "HouseAge       0\n",
       "AveRooms       0\n",
       "AveBedrms      0\n",
       "Population     0\n",
       "AveOccup       0\n",
       "Latitude       0\n",
       "Longitude      0\n",
       "MedHouseVal    0\n",
       "dtype: int64"
      ]
     },
     "execution_count": 8,
     "metadata": {},
     "output_type": "execute_result"
    }
   ],
   "source": [
    "df.isnull().sum()"
   ]
  },
  {
   "cell_type": "code",
   "execution_count": 9,
   "id": "12d82128-1a90-436e-932a-fb2dfacefb6f",
   "metadata": {},
   "outputs": [],
   "source": [
    "import matplotlib.pyplot as plt\n",
    "import seaborn as sns\n",
    "\n",
    "%matplotlib inline"
   ]
  },
  {
   "cell_type": "code",
   "execution_count": 10,
   "id": "4bad6c26-77b1-417e-83f8-c2a679e98053",
   "metadata": {},
   "outputs": [
    {
     "data": {
      "text/plain": [
       "<Axes: xlabel='MedHouseVal', ylabel='Count'>"
      ]
     },
     "execution_count": 10,
     "metadata": {},
     "output_type": "execute_result"
    },
    {
     "data": {
      "image/png": "[encoded data removed]",
      "text/plain": [
       "<Figure size 640x480 with 1 Axes>"
      ]
     },
     "metadata": {},
     "output_type": "display_data"
    }
   ],
   "source": [
    "sns.histplot(df.MedHouseVal)"
   ]
  },
  {
   "cell_type": "raw",
   "id": "a0f67082-0dec-4c25-8582-077ea2c9b45e",
   "metadata": {},
   "source": []
  },
  {
   "cell_type": "code",
   "execution_count": 11,
   "id": "950b489f-efd3-456f-988a-d0c44e0dd2e1",
   "metadata": {},
   "outputs": [
    {
     "data": {
      "text/plain": [
       "(12384, 4128, 4128)"
      ]
     },
     "execution_count": 11,
     "metadata": {},
     "output_type": "execute_result"
    }
   ],
   "source": [
    "n = len(df)\n",
    "n_test = int(0.2 * n)\n",
    "n_val = int(0.2 * n)\n",
    "n_train = n - n_test - n_val\n",
    "n_train, n_test, n_val"
   ]
  },
  {
   "cell_type": "code",
   "execution_count": 12,
   "id": "5d5999b8-0f3c-4983-bb5b-acae3b16c15d",
   "metadata": {},
   "outputs": [],
   "source": [
    "idx = np.arange(n)"
   ]
  },
  {
   "cell_type": "code",
   "execution_count": 13,
   "id": "d9d5d9a6-9aff-4aa3-b37d-f0699d59adae",
   "metadata": {},
   "outputs": [
    {
     "data": {
      "text/plain": [
       "array([14772, 10105, 20094, ..., 20463, 18638,  2915])"
      ]
     },
     "execution_count": 13,
     "metadata": {},
     "output_type": "execute_result"
    }
   ],
   "source": [
    "np.random.seed(5)\n",
    "np.random.shuffle(idx)\n",
    "idx"
   ]
  },
  {
   "cell_type": "code",
   "execution_count": 14,
   "id": "4a28fd0d-3cb5-41d1-84b7-ebbc786caa68",
   "metadata": {},
   "outputs": [],
   "source": [
    "df_train = df.iloc[idx[:n_train]]\n",
    "df_val = df.iloc[idx[n_train:n_train + n_val]]\n",
    "df_test = df.iloc[idx[n_train + n_val:]]"
   ]
  },
  {
   "cell_type": "code",
   "execution_count": 15,
   "id": "730c23f3-25e2-4cdd-ba39-fb27fb796039",
   "metadata": {},
   "outputs": [
    {
     "data": {
      "text/plain": [
       "(12384, 4128, 4128)"
      ]
     },
     "execution_count": 15,
     "metadata": {},
     "output_type": "execute_result"
    }
   ],
   "source": [
    "df_train.reset_index(drop=True)\n",
    "df_val.reset_index(drop=True)\n",
    "df_test.reset_index(drop=True)\n",
    "\n",
    "len(df_train), len(df_val), len(df_test)"
   ]
  },
  {
   "cell_type": "code",
   "execution_count": 16,
   "id": "68d35717-fc23-4f5d-b917-1c1d227871c9",
   "metadata": {},
   "outputs": [
    {
     "data": {
      "text/html": [
       "<div>\n",
       "<style scoped>\n",
       "    .dataframe tbody tr th:only-of-type {\n",
       "        vertical-align: middle;\n",
       "    }\n",
       "\n",
       "    .dataframe tbody tr th {\n",
       "        vertical-align: top;\n",
       "    }\n",
       "\n",
       "    .dataframe thead th {\n",
       "        text-align: right;\n",
       "    }\n",
       "</style>\n",
       "<table border=\"1\" class=\"dataframe\">\n",
       "  <thead>\n",
       "    <tr style=\"text-align: right;\">\n",
       "      <th></th>\n",
       "      <th>MedInc</th>\n",
       "      <th>HouseAge</th>\n",
       "      <th>AveRooms</th>\n",
       "      <th>AveBedrms</th>\n",
       "      <th>Population</th>\n",
       "      <th>AveOccup</th>\n",
       "      <th>Latitude</th>\n",
       "      <th>Longitude</th>\n",
       "      <th>MedHouseVal</th>\n",
       "    </tr>\n",
       "  </thead>\n",
       "  <tbody>\n",
       "    <tr>\n",
       "      <th>14772</th>\n",
       "      <td>2.7361</td>\n",
       "      <td>14.0</td>\n",
       "      <td>4.206612</td>\n",
       "      <td>0.983471</td>\n",
       "      <td>1224.0</td>\n",
       "      <td>3.371901</td>\n",
       "      <td>32.57</td>\n",
       "      <td>-117.07</td>\n",
       "      <td>0.936</td>\n",
       "    </tr>\n",
       "    <tr>\n",
       "      <th>10105</th>\n",
       "      <td>3.6106</td>\n",
       "      <td>18.0</td>\n",
       "      <td>4.393468</td>\n",
       "      <td>1.026439</td>\n",
       "      <td>1590.0</td>\n",
       "      <td>2.472784</td>\n",
       "      <td>33.92</td>\n",
       "      <td>-117.95</td>\n",
       "      <td>1.536</td>\n",
       "    </tr>\n",
       "    <tr>\n",
       "      <th>20094</th>\n",
       "      <td>2.1250</td>\n",
       "      <td>26.0</td>\n",
       "      <td>37.063492</td>\n",
       "      <td>7.185185</td>\n",
       "      <td>416.0</td>\n",
       "      <td>2.201058</td>\n",
       "      <td>38.19</td>\n",
       "      <td>-120.03</td>\n",
       "      <td>1.325</td>\n",
       "    </tr>\n",
       "    <tr>\n",
       "      <th>19261</th>\n",
       "      <td>2.6576</td>\n",
       "      <td>23.0</td>\n",
       "      <td>5.163004</td>\n",
       "      <td>1.120879</td>\n",
       "      <td>1644.0</td>\n",
       "      <td>3.010989</td>\n",
       "      <td>38.44</td>\n",
       "      <td>-122.74</td>\n",
       "      <td>1.479</td>\n",
       "    </tr>\n",
       "    <tr>\n",
       "      <th>14139</th>\n",
       "      <td>2.5583</td>\n",
       "      <td>31.0</td>\n",
       "      <td>4.606335</td>\n",
       "      <td>1.133484</td>\n",
       "      <td>1263.0</td>\n",
       "      <td>2.857466</td>\n",
       "      <td>32.75</td>\n",
       "      <td>-117.07</td>\n",
       "      <td>1.207</td>\n",
       "    </tr>\n",
       "    <tr>\n",
       "      <th>...</th>\n",
       "      <td>...</td>\n",
       "      <td>...</td>\n",
       "      <td>...</td>\n",
       "      <td>...</td>\n",
       "      <td>...</td>\n",
       "      <td>...</td>\n",
       "      <td>...</td>\n",
       "      <td>...</td>\n",
       "      <td>...</td>\n",
       "    </tr>\n",
       "    <tr>\n",
       "      <th>2675</th>\n",
       "      <td>3.4038</td>\n",
       "      <td>29.0</td>\n",
       "      <td>5.881443</td>\n",
       "      <td>1.134021</td>\n",
       "      <td>684.0</td>\n",
       "      <td>3.525773</td>\n",
       "      <td>32.99</td>\n",
       "      <td>-115.41</td>\n",
       "      <td>1.078</td>\n",
       "    </tr>\n",
       "    <tr>\n",
       "      <th>20179</th>\n",
       "      <td>2.9821</td>\n",
       "      <td>29.0</td>\n",
       "      <td>4.827160</td>\n",
       "      <td>1.037037</td>\n",
       "      <td>1815.0</td>\n",
       "      <td>2.800926</td>\n",
       "      <td>34.34</td>\n",
       "      <td>-119.22</td>\n",
       "      <td>1.757</td>\n",
       "    </tr>\n",
       "    <tr>\n",
       "      <th>13162</th>\n",
       "      <td>1.9405</td>\n",
       "      <td>36.0</td>\n",
       "      <td>4.925490</td>\n",
       "      <td>1.058824</td>\n",
       "      <td>910.0</td>\n",
       "      <td>3.568627</td>\n",
       "      <td>36.86</td>\n",
       "      <td>-121.40</td>\n",
       "      <td>1.454</td>\n",
       "    </tr>\n",
       "    <tr>\n",
       "      <th>10819</th>\n",
       "      <td>2.7500</td>\n",
       "      <td>5.0</td>\n",
       "      <td>3.889344</td>\n",
       "      <td>1.176230</td>\n",
       "      <td>497.0</td>\n",
       "      <td>2.036885</td>\n",
       "      <td>33.64</td>\n",
       "      <td>-117.92</td>\n",
       "      <td>2.250</td>\n",
       "    </tr>\n",
       "    <tr>\n",
       "      <th>19692</th>\n",
       "      <td>1.4727</td>\n",
       "      <td>33.0</td>\n",
       "      <td>5.077381</td>\n",
       "      <td>1.069444</td>\n",
       "      <td>1583.0</td>\n",
       "      <td>3.140873</td>\n",
       "      <td>39.13</td>\n",
       "      <td>-121.61</td>\n",
       "      <td>0.530</td>\n",
       "    </tr>\n",
       "  </tbody>\n",
       "</table>\n",
       "<p>12384 rows × 9 columns</p>\n",
       "</div>"
      ],
      "text/plain": [
       "       MedInc  HouseAge   AveRooms  AveBedrms  Population  AveOccup  Latitude  \\\n",
       "14772  2.7361      14.0   4.206612   0.983471      1224.0  3.371901     32.57   \n",
       "10105  3.6106      18.0   4.393468   1.026439      1590.0  2.472784     33.92   \n",
       "20094  2.1250      26.0  37.063492   7.185185       416.0  2.201058     38.19   \n",
       "19261  2.6576      23.0   5.163004   1.120879      1644.0  3.010989     38.44   \n",
       "14139  2.5583      31.0   4.606335   1.133484      1263.0  2.857466     32.75   \n",
       "...       ...       ...        ...        ...         ...       ...       ...   \n",
       "2675   3.4038      29.0   5.881443   1.134021       684.0  3.525773     32.99   \n",
       "20179  2.9821      29.0   4.827160   1.037037      1815.0  2.800926     34.34   \n",
       "13162  1.9405      36.0   4.925490   1.058824       910.0  3.568627     36.86   \n",
       "10819  2.7500       5.0   3.889344   1.176230       497.0  2.036885     33.64   \n",
       "19692  1.4727      33.0   5.077381   1.069444      1583.0  3.140873     39.13   \n",
       "\n",
       "       Longitude  MedHouseVal  \n",
       "14772    -117.07        0.936  \n",
       "10105    -117.95        1.536  \n",
       "20094    -120.03        1.325  \n",
       "19261    -122.74        1.479  \n",
       "14139    -117.07        1.207  \n",
       "...          ...          ...  \n",
       "2675     -115.41        1.078  \n",
       "20179    -119.22        1.757  \n",
       "13162    -121.40        1.454  \n",
       "10819    -117.92        2.250  \n",
       "19692    -121.61        0.530  \n",
       "\n",
       "[12384 rows x 9 columns]"
      ]
     },
     "execution_count": 16,
     "metadata": {},
     "output_type": "execute_result"
    }
   ],
   "source": [
    "df_train"
   ]
  },
  {
   "cell_type": "code",
   "execution_count": 17,
   "id": "a448350c-2b98-48ba-a7ed-2d435ff711d3",
   "metadata": {},
   "outputs": [
    {
     "data": {
      "text/plain": [
       "15.0001"
      ]
     },
     "execution_count": 17,
     "metadata": {},
     "output_type": "execute_result"
    }
   ],
   "source": [
    "df_train.MedInc.max()"
   ]
  },
  {
   "cell_type": "code",
   "execution_count": 18,
   "id": "aaf01c7a-129e-466a-b1ad-0f182ff2fa25",
   "metadata": {},
   "outputs": [],
   "source": [
    "y_train = df_train.MedHouseVal.values\n",
    "y_test = df_test.MedHouseVal.values\n",
    "y_val = df_val.MedHouseVal.values"
   ]
  },
  {
   "cell_type": "code",
   "execution_count": 19,
   "id": "ab26ee49-d924-47c1-87b1-52807e0f5519",
   "metadata": {},
   "outputs": [],
   "source": [
    "del df_train[\"MedHouseVal\"]\n",
    "del df_test[\"MedHouseVal\"]\n",
    "del df_val[\"MedHouseVal\"]"
   ]
  },
  {
   "cell_type": "code",
   "execution_count": 20,
   "id": "2d01eefb-ce76-42cd-b5ce-eef4d5bb975b",
   "metadata": {},
   "outputs": [
    {
     "data": {
      "text/html": [
       "<div>\n",
       "<style scoped>\n",
       "    .dataframe tbody tr th:only-of-type {\n",
       "        vertical-align: middle;\n",
       "    }\n",
       "\n",
       "    .dataframe tbody tr th {\n",
       "        vertical-align: top;\n",
       "    }\n",
       "\n",
       "    .dataframe thead th {\n",
       "        text-align: right;\n",
       "    }\n",
       "</style>\n",
       "<table border=\"1\" class=\"dataframe\">\n",
       "  <thead>\n",
       "    <tr style=\"text-align: right;\">\n",
       "      <th></th>\n",
       "      <th>MedInc</th>\n",
       "      <th>HouseAge</th>\n",
       "      <th>AveRooms</th>\n",
       "      <th>AveBedrms</th>\n",
       "      <th>Population</th>\n",
       "      <th>AveOccup</th>\n",
       "      <th>Latitude</th>\n",
       "      <th>Longitude</th>\n",
       "    </tr>\n",
       "  </thead>\n",
       "  <tbody>\n",
       "    <tr>\n",
       "      <th>14772</th>\n",
       "      <td>2.7361</td>\n",
       "      <td>14.0</td>\n",
       "      <td>4.206612</td>\n",
       "      <td>0.983471</td>\n",
       "      <td>1224.0</td>\n",
       "      <td>3.371901</td>\n",
       "      <td>32.57</td>\n",
       "      <td>-117.07</td>\n",
       "    </tr>\n",
       "    <tr>\n",
       "      <th>10105</th>\n",
       "      <td>3.6106</td>\n",
       "      <td>18.0</td>\n",
       "      <td>4.393468</td>\n",
       "      <td>1.026439</td>\n",
       "      <td>1590.0</td>\n",
       "      <td>2.472784</td>\n",
       "      <td>33.92</td>\n",
       "      <td>-117.95</td>\n",
       "    </tr>\n",
       "    <tr>\n",
       "      <th>20094</th>\n",
       "      <td>2.1250</td>\n",
       "      <td>26.0</td>\n",
       "      <td>37.063492</td>\n",
       "      <td>7.185185</td>\n",
       "      <td>416.0</td>\n",
       "      <td>2.201058</td>\n",
       "      <td>38.19</td>\n",
       "      <td>-120.03</td>\n",
       "    </tr>\n",
       "    <tr>\n",
       "      <th>19261</th>\n",
       "      <td>2.6576</td>\n",
       "      <td>23.0</td>\n",
       "      <td>5.163004</td>\n",
       "      <td>1.120879</td>\n",
       "      <td>1644.0</td>\n",
       "      <td>3.010989</td>\n",
       "      <td>38.44</td>\n",
       "      <td>-122.74</td>\n",
       "    </tr>\n",
       "    <tr>\n",
       "      <th>14139</th>\n",
       "      <td>2.5583</td>\n",
       "      <td>31.0</td>\n",
       "      <td>4.606335</td>\n",
       "      <td>1.133484</td>\n",
       "      <td>1263.0</td>\n",
       "      <td>2.857466</td>\n",
       "      <td>32.75</td>\n",
       "      <td>-117.07</td>\n",
       "    </tr>\n",
       "    <tr>\n",
       "      <th>...</th>\n",
       "      <td>...</td>\n",
       "      <td>...</td>\n",
       "      <td>...</td>\n",
       "      <td>...</td>\n",
       "      <td>...</td>\n",
       "      <td>...</td>\n",
       "      <td>...</td>\n",
       "      <td>...</td>\n",
       "    </tr>\n",
       "    <tr>\n",
       "      <th>2675</th>\n",
       "      <td>3.4038</td>\n",
       "      <td>29.0</td>\n",
       "      <td>5.881443</td>\n",
       "      <td>1.134021</td>\n",
       "      <td>684.0</td>\n",
       "      <td>3.525773</td>\n",
       "      <td>32.99</td>\n",
       "      <td>-115.41</td>\n",
       "    </tr>\n",
       "    <tr>\n",
       "      <th>20179</th>\n",
       "      <td>2.9821</td>\n",
       "      <td>29.0</td>\n",
       "      <td>4.827160</td>\n",
       "      <td>1.037037</td>\n",
       "      <td>1815.0</td>\n",
       "      <td>2.800926</td>\n",
       "      <td>34.34</td>\n",
       "      <td>-119.22</td>\n",
       "    </tr>\n",
       "    <tr>\n",
       "      <th>13162</th>\n",
       "      <td>1.9405</td>\n",
       "      <td>36.0</td>\n",
       "      <td>4.925490</td>\n",
       "      <td>1.058824</td>\n",
       "      <td>910.0</td>\n",
       "      <td>3.568627</td>\n",
       "      <td>36.86</td>\n",
       "      <td>-121.40</td>\n",
       "    </tr>\n",
       "    <tr>\n",
       "      <th>10819</th>\n",
       "      <td>2.7500</td>\n",
       "      <td>5.0</td>\n",
       "      <td>3.889344</td>\n",
       "      <td>1.176230</td>\n",
       "      <td>497.0</td>\n",
       "      <td>2.036885</td>\n",
       "      <td>33.64</td>\n",
       "      <td>-117.92</td>\n",
       "    </tr>\n",
       "    <tr>\n",
       "      <th>19692</th>\n",
       "      <td>1.4727</td>\n",
       "      <td>33.0</td>\n",
       "      <td>5.077381</td>\n",
       "      <td>1.069444</td>\n",
       "      <td>1583.0</td>\n",
       "      <td>3.140873</td>\n",
       "      <td>39.13</td>\n",
       "      <td>-121.61</td>\n",
       "    </tr>\n",
       "  </tbody>\n",
       "</table>\n",
       "<p>12384 rows × 8 columns</p>\n",
       "</div>"
      ],
      "text/plain": [
       "       MedInc  HouseAge   AveRooms  AveBedrms  Population  AveOccup  Latitude  \\\n",
       "14772  2.7361      14.0   4.206612   0.983471      1224.0  3.371901     32.57   \n",
       "10105  3.6106      18.0   4.393468   1.026439      1590.0  2.472784     33.92   \n",
       "20094  2.1250      26.0  37.063492   7.185185       416.0  2.201058     38.19   \n",
       "19261  2.6576      23.0   5.163004   1.120879      1644.0  3.010989     38.44   \n",
       "14139  2.5583      31.0   4.606335   1.133484      1263.0  2.857466     32.75   \n",
       "...       ...       ...        ...        ...         ...       ...       ...   \n",
       "2675   3.4038      29.0   5.881443   1.134021       684.0  3.525773     32.99   \n",
       "20179  2.9821      29.0   4.827160   1.037037      1815.0  2.800926     34.34   \n",
       "13162  1.9405      36.0   4.925490   1.058824       910.0  3.568627     36.86   \n",
       "10819  2.7500       5.0   3.889344   1.176230       497.0  2.036885     33.64   \n",
       "19692  1.4727      33.0   5.077381   1.069444      1583.0  3.140873     39.13   \n",
       "\n",
       "       Longitude  \n",
       "14772    -117.07  \n",
       "10105    -117.95  \n",
       "20094    -120.03  \n",
       "19261    -122.74  \n",
       "14139    -117.07  \n",
       "...          ...  \n",
       "2675     -115.41  \n",
       "20179    -119.22  \n",
       "13162    -121.40  \n",
       "10819    -117.92  \n",
       "19692    -121.61  \n",
       "\n",
       "[12384 rows x 8 columns]"
      ]
     },
     "execution_count": 20,
     "metadata": {},
     "output_type": "execute_result"
    }
   ],
   "source": [
    "df_train"
   ]
  },
  {
   "cell_type": "code",
   "execution_count": 27,
   "id": "e6aee94c-d8ac-4090-af4f-bf31e295d163",
   "metadata": {},
   "outputs": [
    {
     "data": {
      "text/plain": [
       "['MedInc',\n",
       " 'HouseAge',\n",
       " 'AveRooms',\n",
       " 'AveBedrms',\n",
       " 'Population',\n",
       " 'AveOccup',\n",
       " 'Latitude',\n",
       " 'Longitude']"
      ]
     },
     "execution_count": 27,
     "metadata": {},
     "output_type": "execute_result"
    }
   ],
   "source": [
    "base = ['MedInc', 'HouseAge', 'AveRooms', 'AveBedrms', 'Population', 'AveOccup', 'Latitude', 'Longitude']\n",
    "\n",
    "def train_linear_regression(X, y):\n",
    "    ones = np.ones(X.shape[0])\n",
    "    X = np.column_stack([ones, X])\n",
    "     \n",
    "    XTX = X.T.dot(X)\n",
    "    XTX_inv = np.linalg.inv(XTX)\n",
    "    w_full = XTX_inv.dot(X.T).dot(y)\n",
    "     \n",
    "    return w_full[0], w_full[1:]\n",
    "\n",
    "def rmse(y, y_pred):\n",
    "    se = (y - y_pred) ** 2\n",
    "    mse = se.mean()\n",
    "    return np.sqrt(mse)\n",
    "\n",
    "def prepare_X(df):\n",
    "    df_num = df.copy()\n",
    "    df_num = df_num[base]\n",
    "\n",
    "    # df_num.AveRooms = df_num.AveRooms.round().values\n",
    "    # df_num.AveBedrms = df_num.AveBedrms.round().values\n",
    "    # df_num.AveOccup = df_num.AveOccup.round().values\n",
    "\n",
    "    X = df_num.values\n",
    "    return X\n",
    "\n",
    "base"
   ]
  },
  {
   "cell_type": "code",
   "execution_count": 28,
   "id": "70bfe130-eda6-4290-940f-3cd34fe792d2",
   "metadata": {},
   "outputs": [
    {
     "data": {
      "text/plain": [
       "(np.float64(-36.92545428803775),\n",
       " array([ 4.41233538e-01,  1.02102454e-02, -1.09963314e-01,  7.13536910e-01,\n",
       "         3.10117602e-07, -3.20564142e-03, -4.20942542e-01, -4.33365147e-01]))"
      ]
     },
     "execution_count": 28,
     "metadata": {},
     "output_type": "execute_result"
    }
   ],
   "source": [
    "X_train = df_train.values\n",
    "\n",
    "w0, w = train_linear_regression(X_train, y_train)\n",
    "w0, w"
   ]
  },
  {
   "cell_type": "code",
   "execution_count": 29,
   "id": "8b81646e-c705-4306-a5c9-33f108f5ed7d",
   "metadata": {},
   "outputs": [
    {
     "data": {
      "text/plain": [
       "array([1.67744782, 1.93034371, 1.2629999 , ..., 1.59564387, 1.68612276,\n",
       "       0.48652713])"
      ]
     },
     "execution_count": 29,
     "metadata": {},
     "output_type": "execute_result"
    }
   ],
   "source": [
    "y_pred = w0 + X_train.dot(w)\n",
    "y_pred"
   ]
  },
  {
   "cell_type": "code",
   "execution_count": 30,
   "id": "20af890f-0680-4744-a233-baa11b607b21",
   "metadata": {},
   "outputs": [
    {
     "data": {
      "text/plain": [
       "<Axes: ylabel='Count'>"
      ]
     },
     "execution_count": 30,
     "metadata": {},
     "output_type": "execute_result"
    },
    {
     "data": {
      "image/png": "[encoded data removed]",
      "text/plain": [
       "<Figure size 640x480 with 1 Axes>"
      ]
     },
     "metadata": {},
     "output_type": "display_data"
    }
   ],
   "source": [
    "sns.histplot(y_pred, color='red', alpha=0.5, bins=50)\n",
    "sns.histplot(y_train, color='blue', alpha=0.5, bins=50)"
   ]
  },
  {
   "cell_type": "code",
   "execution_count": 31,
   "id": "1ca2415a-b430-43f9-bb12-4a9b67024a7a",
   "metadata": {},
   "outputs": [
    {
     "data": {
      "text/plain": [
       "np.float64(0.7213030795859231)"
      ]
     },
     "execution_count": 31,
     "metadata": {},
     "output_type": "execute_result"
    }
   ],
   "source": [
    "rmse(y_train, y_pred)"
   ]
  },
  {
   "cell_type": "code",
   "execution_count": 32,
   "id": "019a39dc-4519-4cc9-a643-66ca3ca096e1",
   "metadata": {},
   "outputs": [
    {
     "data": {
      "text/plain": [
       "np.float64(0.725872105010729)"
      ]
     },
     "execution_count": 32,
     "metadata": {},
     "output_type": "execute_result"
    }
   ],
   "source": [
    "# Training\n",
    "X_train = prepare_X(df_train)\n",
    "w0, w = train_linear_regression(X_train, y_train)\n",
    "\n",
    "# Validating\n",
    "X_val = prepare_X(df_val)\n",
    "y_pred = w0 + X_val.dot(w)\n",
    "\n",
    "rmse(y_val, y_pred)"
   ]
  },
  {
   "cell_type": "code",
   "execution_count": null,
   "id": "1b2a7250-a56f-40bc-b880-aefab8d54af1",
   "metadata": {},
   "outputs": [],
   "source": []
  }
 ],
 "metadata": {
  "kernelspec": {
   "display_name": "Python 3 (ipykernel)",
   "language": "python",
   "name": "python3"
  },
  "language_info": {
   "codemirror_mode": {
    "name": "ipython",
    "version": 3
   },
   "file_extension": ".py",
   "mimetype": "text/x-python",
   "name": "python",
   "nbconvert_exporter": "python",
   "pygments_lexer": "ipython3",
   "version": "3.11.13"
  }
 },
 "nbformat": 4,
 "nbformat_minor": 5
}
